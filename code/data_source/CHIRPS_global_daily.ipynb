{
 "cells": [
  {
   "cell_type": "markdown",
   "metadata": {},
   "source": [
    "# CHIRPS Downloading Script"
   ]
  },
  {
   "cell_type": "markdown",
   "metadata": {},
   "source": [
    "## fsfsf"
   ]
  },
  {
   "cell_type": "code",
   "execution_count": 1,
   "metadata": {},
   "outputs": [],
   "source": [
    "# imports the requests module\n",
    "# Making HTTP requests in Python\n",
    "import requests"
   ]
  },
  {
   "cell_type": "markdown",
   "metadata": {},
   "source": [
    "### Define the base URL for CHIRPS data"
   ]
  },
  {
   "cell_type": "code",
   "execution_count": 2,
   "metadata": {},
   "outputs": [],
   "source": [
    "base_url_daily_p25 = \"https://data.chc.ucsb.edu/products/CHIRPS-2.0/global_daily/netcdf/p25/chirps-v2.0.\"\n",
    "\n",
    "base_url_daily_p05 = \"https://data.chc.ucsb.edu/products/CHIRPS-2.0/global_daily/netcdf/p05/chirps-v2.0.\"\n"
   ]
  },
  {
   "cell_type": "code",
   "execution_count": 3,
   "metadata": {},
   "outputs": [
    {
     "name": "stdout",
     "output_type": "stream",
     "text": [
      "Downloaded chirps-2019.days_p25.nc\n",
      "Download complete!\n"
     ]
    }
   ],
   "source": [
    " # List of years to download data for\n",
    "for year in range(2019, 2020):\n",
    "  \n",
    "# for year in [2019, 2020]: \n",
    "  \n",
    "  # Construct the full download URL\n",
    "  url = f\"{base_url_daily_p25}{year}.days_p25.nc\"\n",
    "  \n",
    "  # Download the file using requests library\n",
    "  response = requests.get(url)\n",
    "  \n",
    "  # Check for successful download (status code 200)\n",
    "  if response.status_code == 200:\n",
    "    # Open the file in write binary mode\n",
    "    with open(f\"chirps-{year}.days_p25.nc\", \"wb\") as file:\n",
    "      # Write the downloaded data to the file\n",
    "      file.write(response.content)\n",
    "      print(f\"Downloaded chirps-{year}.days_p25.nc\")\n",
    "  else:\n",
    "    print(f\"Error downloading {url} (status code: {response.status_code})\")\n",
    "\n",
    "print(\"Download complete!\")"
   ]
  },
  {
   "cell_type": "markdown",
   "metadata": {},
   "source": []
  },
  {
   "cell_type": "code",
   "execution_count": 4,
   "metadata": {},
   "outputs": [
    {
     "name": "stdout",
     "output_type": "stream",
     "text": [
      "Downloaded chirps-2019.days_p05.nc\n",
      "Download complete!\n"
     ]
    }
   ],
   "source": [
    " # List of years to download data for\n",
    "for year in range(2019, 2020):\n",
    "  \n",
    "# for year in [2019, 2020]: \n",
    "  \n",
    "  # Construct the full download URL\n",
    "  url = f\"{base_url_daily_p05}{year}.days_p05.nc\"\n",
    "  \n",
    "  # Download the file using requests library\n",
    "  response = requests.get(url)\n",
    "  \n",
    "  # Check for successful download (status code 200)\n",
    "  if response.status_code == 200:\n",
    "    # Open the file in write binary mode\n",
    "    with open(f\"chirps-{year}.days_p05.nc\", \"wb\") as file:\n",
    "      # Write the downloaded data to the file\n",
    "      file.write(response.content)\n",
    "      print(f\"Downloaded chirps-{year}.days_p05.nc\")\n",
    "  else:\n",
    "    print(f\"Error downloading {url} (status code: {response.status_code})\")\n",
    "\n",
    "print(\"Download complete!\")"
   ]
  },
  {
   "cell_type": "code",
   "execution_count": null,
   "metadata": {},
   "outputs": [],
   "source": []
  }
 ],
 "metadata": {
  "kernelspec": {
   "display_name": "ml_env",
   "language": "python",
   "name": "python3"
  },
  "language_info": {
   "codemirror_mode": {
    "name": "ipython",
    "version": 3
   },
   "file_extension": ".py",
   "mimetype": "text/x-python",
   "name": "python",
   "nbconvert_exporter": "python",
   "pygments_lexer": "ipython3",
   "version": "3.10.11"
  }
 },
 "nbformat": 4,
 "nbformat_minor": 2
}
