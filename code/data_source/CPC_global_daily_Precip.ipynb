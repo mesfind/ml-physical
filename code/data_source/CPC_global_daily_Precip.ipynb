{
 "cells": [
  {
   "cell_type": "markdown",
   "metadata": {},
   "source": [
    "# CPC Daily Precipitation Downloading Script"
   ]
  },
  {
   "cell_type": "markdown",
   "metadata": {},
   "source": [
    "## Import modules"
   ]
  },
  {
   "cell_type": "code",
   "execution_count": 4,
   "metadata": {},
   "outputs": [],
   "source": [
    "import requests"
   ]
  },
  {
   "cell_type": "markdown",
   "metadata": {},
   "source": [
    "## Define the base URL for CPC data"
   ]
  },
  {
   "cell_type": "code",
   "execution_count": 5,
   "metadata": {},
   "outputs": [],
   "source": [
    "# Base URL for CPC gauge data\n",
    "base_url = \"https://downloads.psl.noaa.gov/Datasets/cpc_global_precip/\"\n",
    "\n"
   ]
  },
  {
   "cell_type": "markdown",
   "metadata": {},
   "source": [
    "## Script to download CPC Daily Precipitation "
   ]
  },
  {
   "cell_type": "code",
   "execution_count": 6,
   "metadata": {},
   "outputs": [
    {
     "name": "stdout",
     "output_type": "stream",
     "text": [
      "Downloaded precip-2000.nc\n",
      "Download complete!\n"
     ]
    }
   ],
   "source": [
    "for year in range(2000, 2001):\n",
    "  # Construct the full download URL\n",
    "  url = f\"{base_url}precip.{year}.nc\"\n",
    "\n",
    "  # Download the file using requests library\n",
    "  response = requests.get(url)\n",
    "\n",
    "  # Check for successful download (status code 200)\n",
    "  if response.status_code == 200:\n",
    "    # Open the file in write binary mode\n",
    "    with open(f\"precip-{year}.nc\", \"wb\") as file:\n",
    "      # Write the downloaded data to the file\n",
    "      file.write(response.content)\n",
    "      print(f\"Downloaded precip-{year}.nc\")\n",
    "  else:\n",
    "    print(f\"Error downloading {url} (status code: {response.status_code})\")\n",
    "\n",
    "print(\"Download complete!\")\n"
   ]
  },
  {
   "cell_type": "markdown",
   "metadata": {},
   "source": [
    "## Hands-on activity:\n",
    "\n",
    "### Modify the script and dowload CPC data \n",
    "\n",
    "Download the global monthly\n",
    "\n",
    "- **CPC Global Unified Temperature**: CPC 0.5x0.5 Global Daily Gridded Temperature.\n",
    "\n",
    "- **Global Precipitation Climatology Centre (GPCC)**: GPCC monthly precipitation dataset from 1891-present is calculated from global station data.\n",
    "\t  \n",
    "\n",
    "- **Global Precipitation Climatology Project (GPCP)**: The GPCP Monthly product provides a consistent analysis of global precipitation from an integration of various **satellite data sets** over land and ocean and a **gauge analysis** over land.\n",
    "\n",
    "\n",
    "- **NCEP-NCAR Reanalysis 1**: consists of 4x daily, daily and monthly atmospheric model output from 1948 to near present. \n",
    "\n",
    "- **NCEP/DOE Reanalysis II**:\tNCEP-DOE Reanalysis 2 is an improved version of the NCEP Reanalysis I model that fixed errors and updated  **paramterizations of physical processes**."
   ]
  },
  {
   "cell_type": "code",
   "execution_count": null,
   "metadata": {},
   "outputs": [],
   "source": []
  }
 ],
 "metadata": {
  "kernelspec": {
   "display_name": "ml_env",
   "language": "python",
   "name": "python3"
  },
  "language_info": {
   "codemirror_mode": {
    "name": "ipython",
    "version": 3
   },
   "file_extension": ".py",
   "mimetype": "text/x-python",
   "name": "python",
   "nbconvert_exporter": "python",
   "pygments_lexer": "ipython3",
   "version": "3.10.11"
  }
 },
 "nbformat": 4,
 "nbformat_minor": 2
}
