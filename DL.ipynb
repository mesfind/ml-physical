{
 "cells": [
  {
   "cell_type": "code",
   "execution_count": 1,
   "id": "9118c30e-9808-4678-80ea-fb55ef34d551",
   "metadata": {},
   "outputs": [
    {
     "name": "stdout",
     "output_type": "stream",
     "text": [
      "predict before training 4 tensor(4.)\n"
     ]
    }
   ],
   "source": [
    "import torch\n",
    "from torch.autograd import Variable\n",
    "X_data = [1.0, 2.0, 3.0]\n",
    "y_data = [2.0, 4.0, 6.0]\n",
    "W = Variable(torch.Tensor([1.0]), requires_grad=True)\n",
    "\n",
    "def forward(x):\n",
    "    return x*W\n",
    "def loss(x,y):\n",
    "    y_pred = forward(x)\n",
    "    return (y_pred-y) * (y_pred -y)\n",
    "# before training\n",
    "print(\"predict before training\", 4, forward(4).data[0])"
   ]
  },
  {
   "cell_type": "code",
   "execution_count": 2,
   "id": "8a0beaf9-e78b-4d75-81fc-d72b7eb0231c",
   "metadata": {},
   "outputs": [
    {
     "name": "stdout",
     "output_type": "stream",
     "text": [
      "\tgrad:  1.0 2.0 tensor(-2.)\n",
      "\tgrad:  2.0 4.0 tensor(-7.8400)\n",
      "\tgrad:  3.0 6.0 tensor(-16.2288)\n",
      "progress: 0 tensor(7.3159)\n",
      "\tgrad:  1.0 2.0 tensor(-1.4786)\n",
      "\tgrad:  2.0 4.0 tensor(-5.7962)\n",
      "\tgrad:  3.0 6.0 tensor(-11.9981)\n",
      "progress: 1 tensor(3.9988)\n",
      "\tgrad:  1.0 2.0 tensor(-1.0932)\n",
      "\tgrad:  2.0 4.0 tensor(-4.2852)\n",
      "\tgrad:  3.0 6.0 tensor(-8.8704)\n",
      "progress: 2 tensor(2.1857)\n",
      "\tgrad:  1.0 2.0 tensor(-0.8082)\n",
      "\tgrad:  2.0 4.0 tensor(-3.1681)\n",
      "\tgrad:  3.0 6.0 tensor(-6.5580)\n",
      "progress: 3 tensor(1.1946)\n",
      "\tgrad:  1.0 2.0 tensor(-0.5975)\n",
      "\tgrad:  2.0 4.0 tensor(-2.3422)\n",
      "\tgrad:  3.0 6.0 tensor(-4.8484)\n",
      "progress: 4 tensor(0.6530)\n",
      "\tgrad:  1.0 2.0 tensor(-0.4417)\n",
      "\tgrad:  2.0 4.0 tensor(-1.7316)\n",
      "\tgrad:  3.0 6.0 tensor(-3.5845)\n",
      "progress: 5 tensor(0.3569)\n",
      "\tgrad:  1.0 2.0 tensor(-0.3266)\n",
      "\tgrad:  2.0 4.0 tensor(-1.2802)\n",
      "\tgrad:  3.0 6.0 tensor(-2.6500)\n",
      "progress: 6 tensor(0.1951)\n",
      "\tgrad:  1.0 2.0 tensor(-0.2414)\n",
      "\tgrad:  2.0 4.0 tensor(-0.9465)\n",
      "\tgrad:  3.0 6.0 tensor(-1.9592)\n",
      "progress: 7 tensor(0.1066)\n",
      "\tgrad:  1.0 2.0 tensor(-0.1785)\n",
      "\tgrad:  2.0 4.0 tensor(-0.6997)\n",
      "\tgrad:  3.0 6.0 tensor(-1.4485)\n",
      "progress: 8 tensor(0.0583)\n",
      "\tgrad:  1.0 2.0 tensor(-0.1320)\n",
      "\tgrad:  2.0 4.0 tensor(-0.5173)\n",
      "\tgrad:  3.0 6.0 tensor(-1.0709)\n",
      "progress: 9 tensor(0.0319)\n",
      "\tgrad:  1.0 2.0 tensor(-0.0976)\n",
      "\tgrad:  2.0 4.0 tensor(-0.3825)\n",
      "\tgrad:  3.0 6.0 tensor(-0.7917)\n",
      "progress: 10 tensor(0.0174)\n",
      "\tgrad:  1.0 2.0 tensor(-0.0721)\n",
      "\tgrad:  2.0 4.0 tensor(-0.2828)\n",
      "\tgrad:  3.0 6.0 tensor(-0.5853)\n",
      "progress: 11 tensor(0.0095)\n",
      "\tgrad:  1.0 2.0 tensor(-0.0533)\n",
      "\tgrad:  2.0 4.0 tensor(-0.2090)\n",
      "\tgrad:  3.0 6.0 tensor(-0.4327)\n",
      "progress: 12 tensor(0.0052)\n",
      "\tgrad:  1.0 2.0 tensor(-0.0394)\n",
      "\tgrad:  2.0 4.0 tensor(-0.1546)\n",
      "\tgrad:  3.0 6.0 tensor(-0.3199)\n",
      "progress: 13 tensor(0.0028)\n",
      "\tgrad:  1.0 2.0 tensor(-0.0291)\n",
      "\tgrad:  2.0 4.0 tensor(-0.1143)\n",
      "\tgrad:  3.0 6.0 tensor(-0.2365)\n",
      "progress: 14 tensor(0.0016)\n",
      "\tgrad:  1.0 2.0 tensor(-0.0215)\n",
      "\tgrad:  2.0 4.0 tensor(-0.0845)\n",
      "\tgrad:  3.0 6.0 tensor(-0.1749)\n",
      "progress: 15 tensor(0.0008)\n",
      "\tgrad:  1.0 2.0 tensor(-0.0159)\n",
      "\tgrad:  2.0 4.0 tensor(-0.0625)\n",
      "\tgrad:  3.0 6.0 tensor(-0.1293)\n",
      "progress: 16 tensor(0.0005)\n",
      "\tgrad:  1.0 2.0 tensor(-0.0118)\n",
      "\tgrad:  2.0 4.0 tensor(-0.0462)\n",
      "\tgrad:  3.0 6.0 tensor(-0.0956)\n",
      "progress: 17 tensor(0.0003)\n",
      "\tgrad:  1.0 2.0 tensor(-0.0087)\n",
      "\tgrad:  2.0 4.0 tensor(-0.0341)\n",
      "\tgrad:  3.0 6.0 tensor(-0.0707)\n",
      "progress: 18 tensor(0.0001)\n",
      "\tgrad:  1.0 2.0 tensor(-0.0064)\n",
      "\tgrad:  2.0 4.0 tensor(-0.0252)\n",
      "\tgrad:  3.0 6.0 tensor(-0.0522)\n",
      "progress: 19 tensor(7.5804e-05)\n",
      "\tgrad:  1.0 2.0 tensor(-0.0048)\n",
      "\tgrad:  2.0 4.0 tensor(-0.0187)\n",
      "\tgrad:  3.0 6.0 tensor(-0.0386)\n",
      "progress: 20 tensor(4.1433e-05)\n",
      "\tgrad:  1.0 2.0 tensor(-0.0035)\n",
      "\tgrad:  2.0 4.0 tensor(-0.0138)\n",
      "\tgrad:  3.0 6.0 tensor(-0.0286)\n",
      "progress: 21 tensor(2.2647e-05)\n",
      "\tgrad:  1.0 2.0 tensor(-0.0026)\n",
      "\tgrad:  2.0 4.0 tensor(-0.0102)\n",
      "\tgrad:  3.0 6.0 tensor(-0.0211)\n",
      "progress: 22 tensor(1.2377e-05)\n",
      "\tgrad:  1.0 2.0 tensor(-0.0019)\n",
      "\tgrad:  2.0 4.0 tensor(-0.0075)\n",
      "\tgrad:  3.0 6.0 tensor(-0.0156)\n",
      "progress: 23 tensor(6.7684e-06)\n",
      "\tgrad:  1.0 2.0 tensor(-0.0014)\n",
      "\tgrad:  2.0 4.0 tensor(-0.0056)\n",
      "\tgrad:  3.0 6.0 tensor(-0.0115)\n",
      "progress: 24 tensor(3.7001e-06)\n",
      "\tgrad:  1.0 2.0 tensor(-0.0011)\n",
      "\tgrad:  2.0 4.0 tensor(-0.0041)\n",
      "\tgrad:  3.0 6.0 tensor(-0.0085)\n",
      "progress: 25 tensor(2.0219e-06)\n",
      "\tgrad:  1.0 2.0 tensor(-0.0008)\n",
      "\tgrad:  2.0 4.0 tensor(-0.0030)\n",
      "\tgrad:  3.0 6.0 tensor(-0.0063)\n",
      "progress: 26 tensor(1.1045e-06)\n",
      "\tgrad:  1.0 2.0 tensor(-0.0006)\n",
      "\tgrad:  2.0 4.0 tensor(-0.0023)\n",
      "\tgrad:  3.0 6.0 tensor(-0.0047)\n",
      "progress: 27 tensor(6.0411e-07)\n",
      "\tgrad:  1.0 2.0 tensor(-0.0004)\n",
      "\tgrad:  2.0 4.0 tensor(-0.0017)\n",
      "\tgrad:  3.0 6.0 tensor(-0.0034)\n",
      "progress: 28 tensor(3.2960e-07)\n",
      "\tgrad:  1.0 2.0 tensor(-0.0003)\n",
      "\tgrad:  2.0 4.0 tensor(-0.0012)\n",
      "\tgrad:  3.0 6.0 tensor(-0.0025)\n",
      "progress: 29 tensor(1.8051e-07)\n",
      "\tgrad:  1.0 2.0 tensor(-0.0002)\n",
      "\tgrad:  2.0 4.0 tensor(-0.0009)\n",
      "\tgrad:  3.0 6.0 tensor(-0.0019)\n",
      "progress: 30 tensor(9.8744e-08)\n",
      "\tgrad:  1.0 2.0 tensor(-0.0002)\n",
      "\tgrad:  2.0 4.0 tensor(-0.0007)\n",
      "\tgrad:  3.0 6.0 tensor(-0.0014)\n",
      "progress: 31 tensor(5.4148e-08)\n",
      "\tgrad:  1.0 2.0 tensor(-0.0001)\n",
      "\tgrad:  2.0 4.0 tensor(-0.0005)\n",
      "\tgrad:  3.0 6.0 tensor(-0.0010)\n",
      "progress: 32 tensor(2.9468e-08)\n",
      "\tgrad:  1.0 2.0 tensor(-9.3937e-05)\n",
      "\tgrad:  2.0 4.0 tensor(-0.0004)\n",
      "\tgrad:  3.0 6.0 tensor(-0.0008)\n",
      "progress: 33 tensor(1.6088e-08)\n",
      "\tgrad:  1.0 2.0 tensor(-6.9380e-05)\n",
      "\tgrad:  2.0 4.0 tensor(-0.0003)\n",
      "\tgrad:  3.0 6.0 tensor(-0.0006)\n",
      "progress: 34 tensor(8.7348e-09)\n",
      "\tgrad:  1.0 2.0 tensor(-5.1260e-05)\n",
      "\tgrad:  2.0 4.0 tensor(-0.0002)\n",
      "\tgrad:  3.0 6.0 tensor(-0.0004)\n",
      "progress: 35 tensor(4.8467e-09)\n",
      "\tgrad:  1.0 2.0 tensor(-3.7909e-05)\n",
      "\tgrad:  2.0 4.0 tensor(-0.0001)\n",
      "\tgrad:  3.0 6.0 tensor(-0.0003)\n",
      "progress: 36 tensor(2.6521e-09)\n",
      "\tgrad:  1.0 2.0 tensor(-2.8133e-05)\n",
      "\tgrad:  2.0 4.0 tensor(-0.0001)\n",
      "\tgrad:  3.0 6.0 tensor(-0.0002)\n",
      "progress: 37 tensor(1.4552e-09)\n",
      "\tgrad:  1.0 2.0 tensor(-2.0981e-05)\n",
      "\tgrad:  2.0 4.0 tensor(-8.2016e-05)\n",
      "\tgrad:  3.0 6.0 tensor(-0.0002)\n",
      "progress: 38 tensor(7.9149e-10)\n",
      "\tgrad:  1.0 2.0 tensor(-1.5497e-05)\n",
      "\tgrad:  2.0 4.0 tensor(-6.1035e-05)\n",
      "\tgrad:  3.0 6.0 tensor(-0.0001)\n",
      "progress: 39 tensor(4.4020e-10)\n",
      "\tgrad:  1.0 2.0 tensor(-1.1444e-05)\n",
      "\tgrad:  2.0 4.0 tensor(-4.4823e-05)\n",
      "\tgrad:  3.0 6.0 tensor(-9.1553e-05)\n",
      "progress: 40 tensor(2.3283e-10)\n",
      "\tgrad:  1.0 2.0 tensor(-8.3447e-06)\n",
      "\tgrad:  2.0 4.0 tensor(-3.2425e-05)\n",
      "\tgrad:  3.0 6.0 tensor(-6.5804e-05)\n",
      "progress: 41 tensor(1.2028e-10)\n",
      "\tgrad:  1.0 2.0 tensor(-5.9605e-06)\n",
      "\tgrad:  2.0 4.0 tensor(-2.2888e-05)\n",
      "\tgrad:  3.0 6.0 tensor(-4.5776e-05)\n",
      "progress: 42 tensor(5.8208e-11)\n",
      "\tgrad:  1.0 2.0 tensor(-4.2915e-06)\n",
      "\tgrad:  2.0 4.0 tensor(-1.7166e-05)\n",
      "\tgrad:  3.0 6.0 tensor(-3.7193e-05)\n",
      "progress: 43 tensor(3.8426e-11)\n",
      "\tgrad:  1.0 2.0 tensor(-3.3379e-06)\n",
      "\tgrad:  2.0 4.0 tensor(-1.3351e-05)\n",
      "\tgrad:  3.0 6.0 tensor(-2.8610e-05)\n",
      "progress: 44 tensor(2.2737e-11)\n",
      "\tgrad:  1.0 2.0 tensor(-2.6226e-06)\n",
      "\tgrad:  2.0 4.0 tensor(-1.0490e-05)\n",
      "\tgrad:  3.0 6.0 tensor(-2.2888e-05)\n",
      "progress: 45 tensor(1.4552e-11)\n",
      "\tgrad:  1.0 2.0 tensor(-1.9073e-06)\n",
      "\tgrad:  2.0 4.0 tensor(-7.6294e-06)\n",
      "\tgrad:  3.0 6.0 tensor(-1.4305e-05)\n",
      "progress: 46 tensor(5.6843e-12)\n",
      "\tgrad:  1.0 2.0 tensor(-1.4305e-06)\n",
      "\tgrad:  2.0 4.0 tensor(-5.7220e-06)\n",
      "\tgrad:  3.0 6.0 tensor(-1.1444e-05)\n",
      "progress: 47 tensor(3.6380e-12)\n",
      "\tgrad:  1.0 2.0 tensor(-1.1921e-06)\n",
      "\tgrad:  2.0 4.0 tensor(-4.7684e-06)\n",
      "\tgrad:  3.0 6.0 tensor(-1.1444e-05)\n",
      "progress: 48 tensor(3.6380e-12)\n",
      "\tgrad:  1.0 2.0 tensor(-9.5367e-07)\n",
      "\tgrad:  2.0 4.0 tensor(-3.8147e-06)\n",
      "\tgrad:  3.0 6.0 tensor(-8.5831e-06)\n",
      "progress: 49 tensor(2.0464e-12)\n",
      "\tgrad:  1.0 2.0 tensor(-7.1526e-07)\n",
      "\tgrad:  2.0 4.0 tensor(-2.8610e-06)\n",
      "\tgrad:  3.0 6.0 tensor(-5.7220e-06)\n",
      "progress: 50 tensor(9.0949e-13)\n",
      "\tgrad:  1.0 2.0 tensor(-7.1526e-07)\n",
      "\tgrad:  2.0 4.0 tensor(-2.8610e-06)\n",
      "\tgrad:  3.0 6.0 tensor(-5.7220e-06)\n",
      "progress: 51 tensor(9.0949e-13)\n",
      "\tgrad:  1.0 2.0 tensor(-7.1526e-07)\n",
      "\tgrad:  2.0 4.0 tensor(-2.8610e-06)\n",
      "\tgrad:  3.0 6.0 tensor(-5.7220e-06)\n",
      "progress: 52 tensor(9.0949e-13)\n",
      "\tgrad:  1.0 2.0 tensor(-7.1526e-07)\n",
      "\tgrad:  2.0 4.0 tensor(-2.8610e-06)\n",
      "\tgrad:  3.0 6.0 tensor(-5.7220e-06)\n",
      "progress: 53 tensor(9.0949e-13)\n",
      "\tgrad:  1.0 2.0 tensor(-7.1526e-07)\n",
      "\tgrad:  2.0 4.0 tensor(-2.8610e-06)\n",
      "\tgrad:  3.0 6.0 tensor(-5.7220e-06)\n",
      "progress: 54 tensor(9.0949e-13)\n",
      "\tgrad:  1.0 2.0 tensor(-7.1526e-07)\n",
      "\tgrad:  2.0 4.0 tensor(-2.8610e-06)\n",
      "\tgrad:  3.0 6.0 tensor(-5.7220e-06)\n",
      "progress: 55 tensor(9.0949e-13)\n",
      "\tgrad:  1.0 2.0 tensor(-7.1526e-07)\n",
      "\tgrad:  2.0 4.0 tensor(-2.8610e-06)\n",
      "\tgrad:  3.0 6.0 tensor(-5.7220e-06)\n",
      "progress: 56 tensor(9.0949e-13)\n",
      "\tgrad:  1.0 2.0 tensor(-7.1526e-07)\n",
      "\tgrad:  2.0 4.0 tensor(-2.8610e-06)\n",
      "\tgrad:  3.0 6.0 tensor(-5.7220e-06)\n",
      "progress: 57 tensor(9.0949e-13)\n",
      "\tgrad:  1.0 2.0 tensor(-7.1526e-07)\n",
      "\tgrad:  2.0 4.0 tensor(-2.8610e-06)\n",
      "\tgrad:  3.0 6.0 tensor(-5.7220e-06)\n",
      "progress: 58 tensor(9.0949e-13)\n",
      "\tgrad:  1.0 2.0 tensor(-7.1526e-07)\n",
      "\tgrad:  2.0 4.0 tensor(-2.8610e-06)\n",
      "\tgrad:  3.0 6.0 tensor(-5.7220e-06)\n",
      "progress: 59 tensor(9.0949e-13)\n",
      "\tgrad:  1.0 2.0 tensor(-7.1526e-07)\n",
      "\tgrad:  2.0 4.0 tensor(-2.8610e-06)\n",
      "\tgrad:  3.0 6.0 tensor(-5.7220e-06)\n",
      "progress: 60 tensor(9.0949e-13)\n",
      "\tgrad:  1.0 2.0 tensor(-7.1526e-07)\n",
      "\tgrad:  2.0 4.0 tensor(-2.8610e-06)\n",
      "\tgrad:  3.0 6.0 tensor(-5.7220e-06)\n",
      "progress: 61 tensor(9.0949e-13)\n",
      "\tgrad:  1.0 2.0 tensor(-7.1526e-07)\n",
      "\tgrad:  2.0 4.0 tensor(-2.8610e-06)\n",
      "\tgrad:  3.0 6.0 tensor(-5.7220e-06)\n",
      "progress: 62 tensor(9.0949e-13)\n",
      "\tgrad:  1.0 2.0 tensor(-7.1526e-07)\n",
      "\tgrad:  2.0 4.0 tensor(-2.8610e-06)\n",
      "\tgrad:  3.0 6.0 tensor(-5.7220e-06)\n",
      "progress: 63 tensor(9.0949e-13)\n",
      "\tgrad:  1.0 2.0 tensor(-7.1526e-07)\n",
      "\tgrad:  2.0 4.0 tensor(-2.8610e-06)\n",
      "\tgrad:  3.0 6.0 tensor(-5.7220e-06)\n",
      "progress: 64 tensor(9.0949e-13)\n",
      "\tgrad:  1.0 2.0 tensor(-7.1526e-07)\n",
      "\tgrad:  2.0 4.0 tensor(-2.8610e-06)\n",
      "\tgrad:  3.0 6.0 tensor(-5.7220e-06)\n",
      "progress: 65 tensor(9.0949e-13)\n",
      "\tgrad:  1.0 2.0 tensor(-7.1526e-07)\n",
      "\tgrad:  2.0 4.0 tensor(-2.8610e-06)\n",
      "\tgrad:  3.0 6.0 tensor(-5.7220e-06)\n",
      "progress: 66 tensor(9.0949e-13)\n",
      "\tgrad:  1.0 2.0 tensor(-7.1526e-07)\n",
      "\tgrad:  2.0 4.0 tensor(-2.8610e-06)\n",
      "\tgrad:  3.0 6.0 tensor(-5.7220e-06)\n",
      "progress: 67 tensor(9.0949e-13)\n",
      "\tgrad:  1.0 2.0 tensor(-7.1526e-07)\n",
      "\tgrad:  2.0 4.0 tensor(-2.8610e-06)\n",
      "\tgrad:  3.0 6.0 tensor(-5.7220e-06)\n",
      "progress: 68 tensor(9.0949e-13)\n",
      "\tgrad:  1.0 2.0 tensor(-7.1526e-07)\n",
      "\tgrad:  2.0 4.0 tensor(-2.8610e-06)\n",
      "\tgrad:  3.0 6.0 tensor(-5.7220e-06)\n",
      "progress: 69 tensor(9.0949e-13)\n",
      "\tgrad:  1.0 2.0 tensor(-7.1526e-07)\n",
      "\tgrad:  2.0 4.0 tensor(-2.8610e-06)\n",
      "\tgrad:  3.0 6.0 tensor(-5.7220e-06)\n",
      "progress: 70 tensor(9.0949e-13)\n",
      "\tgrad:  1.0 2.0 tensor(-7.1526e-07)\n",
      "\tgrad:  2.0 4.0 tensor(-2.8610e-06)\n",
      "\tgrad:  3.0 6.0 tensor(-5.7220e-06)\n",
      "progress: 71 tensor(9.0949e-13)\n",
      "\tgrad:  1.0 2.0 tensor(-7.1526e-07)\n",
      "\tgrad:  2.0 4.0 tensor(-2.8610e-06)\n",
      "\tgrad:  3.0 6.0 tensor(-5.7220e-06)\n",
      "progress: 72 tensor(9.0949e-13)\n",
      "\tgrad:  1.0 2.0 tensor(-7.1526e-07)\n",
      "\tgrad:  2.0 4.0 tensor(-2.8610e-06)\n",
      "\tgrad:  3.0 6.0 tensor(-5.7220e-06)\n",
      "progress: 73 tensor(9.0949e-13)\n",
      "\tgrad:  1.0 2.0 tensor(-7.1526e-07)\n",
      "\tgrad:  2.0 4.0 tensor(-2.8610e-06)\n",
      "\tgrad:  3.0 6.0 tensor(-5.7220e-06)\n",
      "progress: 74 tensor(9.0949e-13)\n",
      "\tgrad:  1.0 2.0 tensor(-7.1526e-07)\n",
      "\tgrad:  2.0 4.0 tensor(-2.8610e-06)\n",
      "\tgrad:  3.0 6.0 tensor(-5.7220e-06)\n",
      "progress: 75 tensor(9.0949e-13)\n",
      "\tgrad:  1.0 2.0 tensor(-7.1526e-07)\n",
      "\tgrad:  2.0 4.0 tensor(-2.8610e-06)\n",
      "\tgrad:  3.0 6.0 tensor(-5.7220e-06)\n",
      "progress: 76 tensor(9.0949e-13)\n",
      "\tgrad:  1.0 2.0 tensor(-7.1526e-07)\n",
      "\tgrad:  2.0 4.0 tensor(-2.8610e-06)\n",
      "\tgrad:  3.0 6.0 tensor(-5.7220e-06)\n",
      "progress: 77 tensor(9.0949e-13)\n",
      "\tgrad:  1.0 2.0 tensor(-7.1526e-07)\n",
      "\tgrad:  2.0 4.0 tensor(-2.8610e-06)\n",
      "\tgrad:  3.0 6.0 tensor(-5.7220e-06)\n",
      "progress: 78 tensor(9.0949e-13)\n",
      "\tgrad:  1.0 2.0 tensor(-7.1526e-07)\n",
      "\tgrad:  2.0 4.0 tensor(-2.8610e-06)\n",
      "\tgrad:  3.0 6.0 tensor(-5.7220e-06)\n",
      "progress: 79 tensor(9.0949e-13)\n",
      "\tgrad:  1.0 2.0 tensor(-7.1526e-07)\n",
      "\tgrad:  2.0 4.0 tensor(-2.8610e-06)\n",
      "\tgrad:  3.0 6.0 tensor(-5.7220e-06)\n",
      "progress: 80 tensor(9.0949e-13)\n",
      "\tgrad:  1.0 2.0 tensor(-7.1526e-07)\n",
      "\tgrad:  2.0 4.0 tensor(-2.8610e-06)\n",
      "\tgrad:  3.0 6.0 tensor(-5.7220e-06)\n",
      "progress: 81 tensor(9.0949e-13)\n",
      "\tgrad:  1.0 2.0 tensor(-7.1526e-07)\n",
      "\tgrad:  2.0 4.0 tensor(-2.8610e-06)\n",
      "\tgrad:  3.0 6.0 tensor(-5.7220e-06)\n",
      "progress: 82 tensor(9.0949e-13)\n",
      "\tgrad:  1.0 2.0 tensor(-7.1526e-07)\n",
      "\tgrad:  2.0 4.0 tensor(-2.8610e-06)\n",
      "\tgrad:  3.0 6.0 tensor(-5.7220e-06)\n",
      "progress: 83 tensor(9.0949e-13)\n",
      "\tgrad:  1.0 2.0 tensor(-7.1526e-07)\n",
      "\tgrad:  2.0 4.0 tensor(-2.8610e-06)\n",
      "\tgrad:  3.0 6.0 tensor(-5.7220e-06)\n",
      "progress: 84 tensor(9.0949e-13)\n",
      "\tgrad:  1.0 2.0 tensor(-7.1526e-07)\n",
      "\tgrad:  2.0 4.0 tensor(-2.8610e-06)\n",
      "\tgrad:  3.0 6.0 tensor(-5.7220e-06)\n",
      "progress: 85 tensor(9.0949e-13)\n",
      "\tgrad:  1.0 2.0 tensor(-7.1526e-07)\n",
      "\tgrad:  2.0 4.0 tensor(-2.8610e-06)\n",
      "\tgrad:  3.0 6.0 tensor(-5.7220e-06)\n",
      "progress: 86 tensor(9.0949e-13)\n",
      "\tgrad:  1.0 2.0 tensor(-7.1526e-07)\n",
      "\tgrad:  2.0 4.0 tensor(-2.8610e-06)\n",
      "\tgrad:  3.0 6.0 tensor(-5.7220e-06)\n",
      "progress: 87 tensor(9.0949e-13)\n",
      "\tgrad:  1.0 2.0 tensor(-7.1526e-07)\n",
      "\tgrad:  2.0 4.0 tensor(-2.8610e-06)\n",
      "\tgrad:  3.0 6.0 tensor(-5.7220e-06)\n",
      "progress: 88 tensor(9.0949e-13)\n",
      "\tgrad:  1.0 2.0 tensor(-7.1526e-07)\n",
      "\tgrad:  2.0 4.0 tensor(-2.8610e-06)\n",
      "\tgrad:  3.0 6.0 tensor(-5.7220e-06)\n",
      "progress: 89 tensor(9.0949e-13)\n",
      "\tgrad:  1.0 2.0 tensor(-7.1526e-07)\n",
      "\tgrad:  2.0 4.0 tensor(-2.8610e-06)\n",
      "\tgrad:  3.0 6.0 tensor(-5.7220e-06)\n",
      "progress: 90 tensor(9.0949e-13)\n",
      "\tgrad:  1.0 2.0 tensor(-7.1526e-07)\n",
      "\tgrad:  2.0 4.0 tensor(-2.8610e-06)\n",
      "\tgrad:  3.0 6.0 tensor(-5.7220e-06)\n",
      "progress: 91 tensor(9.0949e-13)\n",
      "\tgrad:  1.0 2.0 tensor(-7.1526e-07)\n",
      "\tgrad:  2.0 4.0 tensor(-2.8610e-06)\n",
      "\tgrad:  3.0 6.0 tensor(-5.7220e-06)\n",
      "progress: 92 tensor(9.0949e-13)\n",
      "\tgrad:  1.0 2.0 tensor(-7.1526e-07)\n",
      "\tgrad:  2.0 4.0 tensor(-2.8610e-06)\n",
      "\tgrad:  3.0 6.0 tensor(-5.7220e-06)\n",
      "progress: 93 tensor(9.0949e-13)\n",
      "\tgrad:  1.0 2.0 tensor(-7.1526e-07)\n",
      "\tgrad:  2.0 4.0 tensor(-2.8610e-06)\n",
      "\tgrad:  3.0 6.0 tensor(-5.7220e-06)\n",
      "progress: 94 tensor(9.0949e-13)\n",
      "\tgrad:  1.0 2.0 tensor(-7.1526e-07)\n",
      "\tgrad:  2.0 4.0 tensor(-2.8610e-06)\n",
      "\tgrad:  3.0 6.0 tensor(-5.7220e-06)\n",
      "progress: 95 tensor(9.0949e-13)\n",
      "\tgrad:  1.0 2.0 tensor(-7.1526e-07)\n",
      "\tgrad:  2.0 4.0 tensor(-2.8610e-06)\n",
      "\tgrad:  3.0 6.0 tensor(-5.7220e-06)\n",
      "progress: 96 tensor(9.0949e-13)\n",
      "\tgrad:  1.0 2.0 tensor(-7.1526e-07)\n",
      "\tgrad:  2.0 4.0 tensor(-2.8610e-06)\n",
      "\tgrad:  3.0 6.0 tensor(-5.7220e-06)\n",
      "progress: 97 tensor(9.0949e-13)\n",
      "\tgrad:  1.0 2.0 tensor(-7.1526e-07)\n",
      "\tgrad:  2.0 4.0 tensor(-2.8610e-06)\n",
      "\tgrad:  3.0 6.0 tensor(-5.7220e-06)\n",
      "progress: 98 tensor(9.0949e-13)\n",
      "\tgrad:  1.0 2.0 tensor(-7.1526e-07)\n",
      "\tgrad:  2.0 4.0 tensor(-2.8610e-06)\n",
      "\tgrad:  3.0 6.0 tensor(-5.7220e-06)\n",
      "progress: 99 tensor(9.0949e-13)\n",
      "predict (after training) 4 tensor(8.0000)\n"
     ]
    }
   ],
   "source": [
    "# Training loop\n",
    "for epoch in range(100):\n",
    "   for x_val, y_val in zip(X_data, y_data):\n",
    "       l = loss(x_val, y_val)\n",
    "       l.backward()\n",
    "       print(\"\\tgrad: \", x_val, y_val, W.grad.data[0])\n",
    "       W.data = W.data - 0.01 * W.grad.data\n",
    "      # Manually zero the gradients after updating weights\n",
    "       W.grad.data.zero_()\n",
    "   print(\"progress:\", epoch, l.data[0])\n",
    "# After training\n",
    "print(\"predict (after training)\",  4, forward(4).data[0])"
   ]
  },
  {
   "cell_type": "code",
   "execution_count": 3,
   "id": "40458b0f-fbb9-4e82-90df-11dfcbdf0c25",
   "metadata": {},
   "outputs": [
    {
     "data": {
      "text/plain": [
       "tensor([[ 0.2031,  0.9266, -0.8565,  0.8443, -0.4244]],\n",
       "       grad_fn=<AddmmBackward0>)"
      ]
     },
     "execution_count": 3,
     "metadata": {},
     "output_type": "execute_result"
    }
   ],
   "source": [
    "import torch\n",
    "import torch.nn as nn\n",
    "from torch.autograd import Variable\n",
    "inp = Variable(torch.randn(1,10)) \n",
    "model  = nn.Linear(in_features=10,\n",
    "                   out_features=5, bias=True)\n",
    "model(inp)"
   ]
  },
  {
   "cell_type": "code",
   "execution_count": null,
   "id": "116c7f4e-f73f-4163-a64c-05bd37b1b1e6",
   "metadata": {},
   "outputs": [],
   "source": []
  },
  {
   "cell_type": "code",
   "execution_count": 4,
   "id": "71ce31fe-4f4a-4e05-bbd9-4d6e03d2851d",
   "metadata": {},
   "outputs": [
    {
     "data": {
      "text/plain": [
       "Parameter containing:\n",
       "tensor([[-0.0969,  0.2549,  0.0171, -0.1118,  0.1135,  0.2219, -0.0544,  0.2818,\n",
       "          0.0222, -0.1756],\n",
       "        [ 0.2987,  0.2512, -0.0968,  0.2125, -0.1976,  0.2127, -0.1003, -0.2232,\n",
       "         -0.2614,  0.0773],\n",
       "        [ 0.0295,  0.0554,  0.2378, -0.2032, -0.2390, -0.1072,  0.1914, -0.0605,\n",
       "         -0.2732,  0.2981],\n",
       "        [-0.1083,  0.2824, -0.1410, -0.0452, -0.2810,  0.0954, -0.2249, -0.2207,\n",
       "         -0.2733,  0.0656],\n",
       "        [ 0.0493, -0.1977,  0.0037,  0.1182,  0.1642,  0.1015,  0.1639,  0.2689,\n",
       "         -0.0875,  0.0196]], requires_grad=True)"
      ]
     },
     "execution_count": 4,
     "metadata": {},
     "output_type": "execute_result"
    }
   ],
   "source": [
    "model.weight"
   ]
  },
  {
   "cell_type": "code",
   "execution_count": 5,
   "id": "ad64cb4a-9bf1-47e5-9dbe-659fd8858518",
   "metadata": {},
   "outputs": [
    {
     "data": {
      "text/plain": [
       "Parameter containing:\n",
       "tensor([-0.0137,  0.2806, -0.1411,  0.2727, -0.1456], requires_grad=True)"
      ]
     },
     "execution_count": 5,
     "metadata": {},
     "output_type": "execute_result"
    }
   ],
   "source": [
    "model.bias"
   ]
  },
  {
   "cell_type": "markdown",
   "id": "131eed9d-903a-4db0-bcdc-f0780f8b4623",
   "metadata": {},
   "source": [
    "## Activation function "
   ]
  },
  {
   "cell_type": "code",
   "execution_count": 6,
   "id": "22f80f1e-1da3-4760-844d-367fddd002a5",
   "metadata": {},
   "outputs": [
    {
     "data": {
      "image/png": "[encoded data removed]",
      "text/plain": [
       "<Figure size 640x480 with 1 Axes>"
      ]
     },
     "metadata": {},
     "output_type": "display_data"
    }
   ],
   "source": [
    "import matplotlib.pyplot as plt\n",
    "import seaborn as sns\n",
    "import numpy as np\n",
    "sns.set()\n",
    "X = np.linspace(-10,10)\n",
    "y = 1/(1+np.exp(X))\n",
    "plt.plot(X,y)\n",
    "plt.show()"
   ]
  },
  {
   "cell_type": "code",
   "execution_count": 7,
   "id": "4ecb3992-6de9-41d3-bc92-f605911337a6",
   "metadata": {},
   "outputs": [
    {
     "data": {
      "image/png": "[encoded data removed]",
      "text/plain": [
       "<Figure size 640x480 with 1 Axes>"
      ]
     },
     "metadata": {},
     "output_type": "display_data"
    }
   ],
   "source": [
    "y2 = np.tanh(X)\n",
    "plt.plot(X,y2)\n",
    "plt.show()"
   ]
  },
  {
   "cell_type": "code",
   "execution_count": 8,
   "id": "df8efcd9-07bd-45fc-874f-a653b622a4ae",
   "metadata": {},
   "outputs": [
    {
     "name": "stdout",
     "output_type": "stream",
     "text": [
      "tensor([[0., 0., 0.],\n",
      "        [0., 0., 0.],\n",
      "        [0., 0., 0.],\n",
      "        [0., 0., 0.],\n",
      "        [0., 0., 0.]])\n"
     ]
    }
   ],
   "source": [
    "# Import PyTorch\n",
    "import torch\n",
    "import torch.nn as nn\n",
    "import torch.optim as optim\n",
    "import numpy as np\n",
    "import matplotlib.pyplot as plt\n",
    "import pandas as pd\n",
    "# The following lines adjust the granularity of reporting.\n",
    "pd.options.display.max_rows = 10\n",
    "pd.options.display.float_format = \"{:.1f}\".format\n",
    "# Initialize a tensor of size 5x3 filled with zeros\n",
    "x = torch.Tensor(5, 3)\n",
    "print(x)"
   ]
  },
  {
   "cell_type": "code",
   "execution_count": 9,
   "id": "895cdba3-5fda-4a9b-8fd0-aff8b233ceed",
   "metadata": {},
   "outputs": [],
   "source": [
    "device = 'cuda' if torch.cuda.is_available() else ('mps' if torch.backends.mps.is_available() else 'cpu')"
   ]
  },
  {
   "cell_type": "code",
   "execution_count": 10,
   "id": "605ddbbd-cdac-4ecb-b5ce-855fb5cc2e9d",
   "metadata": {},
   "outputs": [],
   "source": [
    "x = torch.Tensor([1,2,3,4]).to(device)\n",
    "y = torch.Tensor([5,6,7,8]).to(device)\n"
   ]
  },
  {
   "cell_type": "code",
   "execution_count": 11,
   "id": "e7a4e010-d465-4ada-ab43-7d60e51a2b02",
   "metadata": {},
   "outputs": [
    {
     "data": {
      "text/plain": [
       "tensor([1., 2., 3., 4.], device='mps:0')"
      ]
     },
     "execution_count": 11,
     "metadata": {},
     "output_type": "execute_result"
    }
   ],
   "source": [
    "x"
   ]
  },
  {
   "cell_type": "code",
   "execution_count": 12,
   "id": "e67d1cbe-7562-49ab-946e-e7fba0153507",
   "metadata": {},
   "outputs": [
    {
     "name": "stdout",
     "output_type": "stream",
     "text": [
      "tensor([ 6.,  8., 10., 12.], device='mps:0')\n"
     ]
    }
   ],
   "source": [
    "result = x+y\n",
    "print(result)"
   ]
  },
  {
   "cell_type": "code",
   "execution_count": 13,
   "id": "2c393b1a-a2cd-4382-8567-7ff417326a69",
   "metadata": {},
   "outputs": [
    {
     "name": "stdout",
     "output_type": "stream",
     "text": [
      "ANN(\n",
      "  (hidden_layer): Linear(in_features=1, out_features=3, bias=True)\n",
      "  (hidden_layer2): Linear(in_features=3, out_features=5, bias=True)\n",
      "  (output_layer): Linear(in_features=5, out_features=1, bias=True)\n",
      ")\n"
     ]
    }
   ],
   "source": [
    "import torch\n",
    "import torch.nn as nn\n",
    "\n",
    "class ANN(nn.Module):\n",
    "    def __init__(self):\n",
    "        super(ANN,self).__init__()\n",
    "        self.hidden_layer = nn.Linear(1,3)\n",
    "        self.hidden_layer2 = nn.Linear(3,5)\n",
    "        self.output_layer = nn.Linear(5,1)\n",
    "    def forward(self, x):\n",
    "        x = torch.relu(self.hidden_layer(x))\n",
    "        x = torch.relu(self.hidden_layer2(x))\n",
    "        x =self.output_layer(x)\n",
    "        return x\n",
    "model = ANN()\n",
    "print(model.to(device))"
   ]
  },
  {
   "cell_type": "code",
   "execution_count": 14,
   "id": "48d42fb4-fd6f-499c-885e-6cc3e91475bb",
   "metadata": {},
   "outputs": [
    {
     "name": "stdout",
     "output_type": "stream",
     "text": [
      "Sequential(\n",
      "  (0): Linear(in_features=1, out_features=3, bias=True)\n",
      "  (1): ReLU()\n",
      "  (2): Linear(in_features=3, out_features=5, bias=True)\n",
      "  (3): ReLU()\n",
      "  (4): Linear(in_features=5, out_features=1, bias=True)\n",
      ")\n"
     ]
    }
   ],
   "source": [
    "seq_ANN = nn.Sequential(\n",
    "    nn.Linear(1,3),\n",
    "    nn.ReLU(),\n",
    "    nn.Linear(3,5),\n",
    "    nn.ReLU(),\n",
    "    nn.Linear(5,1))\n",
    "print(seq_ANN.to(device))"
   ]
  },
  {
   "cell_type": "code",
   "execution_count": 15,
   "id": "411eeac0-16c8-4c9e-90e4-3ad45de6a6ba",
   "metadata": {},
   "outputs": [
    {
     "name": "stdout",
     "output_type": "stream",
     "text": [
      "[[   8.3252       41.            6.98412698 ...    2.55555556\n",
      "    37.88       -122.23      ]\n",
      " [   8.3014       21.            6.23813708 ...    2.10984183\n",
      "    37.86       -122.22      ]\n",
      " [   7.2574       52.            8.28813559 ...    2.80225989\n",
      "    37.85       -122.24      ]\n",
      " ...\n",
      " [   1.7          17.            5.20554273 ...    2.3256351\n",
      "    39.43       -121.22      ]\n",
      " [   1.8672       18.            5.32951289 ...    2.12320917\n",
      "    39.43       -121.32      ]\n",
      " [   2.3886       16.            5.25471698 ...    2.61698113\n",
      "    39.37       -121.24      ]]\n"
     ]
    }
   ],
   "source": [
    "import copy\n",
    "import matplotlib.pyplot as plt\n",
    "import numpy as np\n",
    "import pandas as pd\n",
    "import torch\n",
    "import torch.nn as nn\n",
    "import torch.optim as optim\n",
    "from sklearn.model_selection import train_test_split \n",
    "from sklearn.datasets import fetch_california_housing \n",
    "from sklearn.preprocessing import StandardScaler\n",
    "from torch.utils.data import DataLoader, TensorDataset \n",
    "#from tqdm.notebook import tqdm\n",
    "import warnings\n",
    "#import seaborn as sns\n",
    "#sns.set()\n",
    "warnings.filterwarnings(\"ignore\")\n",
    "# Set fixed random number seed\n",
    "torch.manual_seed(42);\n",
    "\n",
    "dataset = fetch_california_housing()\n",
    "print(dataset.data)"
   ]
  },
  {
   "cell_type": "code",
   "execution_count": null,
   "id": "ce59c838-e296-4486-a659-f052ce883b89",
   "metadata": {},
   "outputs": [],
   "source": []
  },
  {
   "cell_type": "code",
   "execution_count": 16,
   "id": "2d2172ce-bf95-4fba-808a-133f53d573c7",
   "metadata": {},
   "outputs": [
    {
     "name": "stdout",
     "output_type": "stream",
     "text": [
      "Selected device: mps\n"
     ]
    },
    {
     "data": {
      "text/plain": [
       "MLP(\n",
       "  (layer1): Linear(in_features=8, out_features=24, bias=True)\n",
       "  (relu1): ReLU()\n",
       "  (layer2): Linear(in_features=24, out_features=12, bias=True)\n",
       "  (relu2): ReLU()\n",
       "  (layer3): Linear(in_features=12, out_features=6, bias=True)\n",
       "  (relu3): ReLU()\n",
       "  (layer4): Linear(in_features=6, out_features=1, bias=True)\n",
       ")"
      ]
     },
     "execution_count": 16,
     "metadata": {},
     "output_type": "execute_result"
    }
   ],
   "source": [
    "class MLP(nn.Module): \n",
    "    def __init__(self):\n",
    "        super(MLP, self).__init__()\n",
    "        self.layer1 = nn.Linear(8, 24)\n",
    "        self.relu1 = nn.ReLU()\n",
    "        self.layer2 = nn.Linear(24, 12)\n",
    "        self.relu2 = nn.ReLU()\n",
    "        self.layer3 = nn.Linear(12, 6)\n",
    "        self.relu3 = nn.ReLU()\n",
    "        self.layer4 = nn.Linear(6, 1)\n",
    "    def forward(self, x): \n",
    "        x = self.layer1(x) \n",
    "        x = self.relu1(x) \n",
    "        x = self.layer2(x) \n",
    "        x = self.relu2(x) \n",
    "        x = self.layer3(x) \n",
    "        x = self.relu3(x) \n",
    "        x = self.layer4(x) \n",
    "        return x\n",
    "\n",
    "model = MLP()\n",
    "device = 'cuda' if torch.cuda.is_available() else ('mps' if torch.backends.mps.is_available() else 'cpu')\n",
    "# Check the selected device\n",
    "print(\"Selected device:\", device)\n",
    "model.to(device)"
   ]
  },
  {
   "cell_type": "code",
   "execution_count": 17,
   "id": "07ee5f4e-8037-4ece-b1fd-161397a6014d",
   "metadata": {},
   "outputs": [
    {
     "data": {
      "text/plain": [
       "(20640, 8)"
      ]
     },
     "execution_count": 17,
     "metadata": {},
     "output_type": "execute_result"
    }
   ],
   "source": [
    "dataset.data.shape"
   ]
  },
  {
   "cell_type": "code",
   "execution_count": 18,
   "id": "795af0b4-91ef-4a6b-9785-6372adf92dc0",
   "metadata": {},
   "outputs": [
    {
     "data": {
      "text/plain": [
       "(20640,)"
      ]
     },
     "execution_count": 18,
     "metadata": {},
     "output_type": "execute_result"
    }
   ],
   "source": [
    "dataset.target.shape"
   ]
  },
  {
   "cell_type": "code",
   "execution_count": 19,
   "id": "c5c6af44-d41c-4caf-990b-d57e7f630752",
   "metadata": {},
   "outputs": [
    {
     "name": "stdout",
     "output_type": "stream",
     "text": [
      "(20640, 1)\n"
     ]
    }
   ],
   "source": [
    "X = dataset.data\n",
    "y = dataset.target\n",
    "y = y.reshape(-1,1)\n",
    "print(y.shape)"
   ]
  },
  {
   "cell_type": "code",
   "execution_count": 20,
   "id": "41e34579-4f68-4fad-9bd7-e1876a17fe42",
   "metadata": {},
   "outputs": [],
   "source": [
    "# Normalization\n",
    "scaler = StandardScaler()\n",
    "X_new = scaler.fit_transform(X)\n",
    "X_train,X_test,y_train,y_test=train_test_split(X_new,y,\n",
    "                                                test_size=0.2,\n",
    "                                                random_state=42)\n",
    "\n"
   ]
  },
  {
   "cell_type": "code",
   "execution_count": 21,
   "id": "78bea79c-f1df-4089-89ae-e409ef969f89",
   "metadata": {},
   "outputs": [],
   "source": [
    "X_train = torch.Tensor(X_train).to(device)\n",
    "X_test = torch.Tensor(X_test).to(device)\n",
    "y_train = torch.Tensor(y_train).to(device)\n",
    "y_test = torch.Tensor(y_test).to(device)\n",
    "y_train = y_train.view(-1,1)\n",
    "y_test = y_test.view(-1,1)"
   ]
  },
  {
   "cell_type": "code",
   "execution_count": 22,
   "id": "f2628555-81bb-48d8-90d7-86c51dacbd43",
   "metadata": {},
   "outputs": [
    {
     "name": "stdout",
     "output_type": "stream",
     "text": [
      "Requirement already satisfied: tqdm in /opt/anaconda3/envs/pygmt/lib/python3.11/site-packages (4.64.1)\n"
     ]
    }
   ],
   "source": [
    "!pip install tqdm"
   ]
  },
  {
   "cell_type": "code",
   "execution_count": 23,
   "id": "05994f48-ad90-470e-b988-8fcae3d5c010",
   "metadata": {},
   "outputs": [
    {
     "name": "stdout",
     "output_type": "stream",
     "text": [
      "MSE: 0.31\n",
      "RMSE: 0.56\n"
     ]
    },
    {
     "data": {
      "image/png": "[encoded data removed]",
      "text/plain": [
       "<Figure size 640x480 with 1 Axes>"
      ]
     },
     "metadata": {},
     "output_type": "display_data"
    }
   ],
   "source": [
    "from tqdm.notebook import tqdm\n",
    "# Loss function and optimizer\n",
    "loss_fn = nn.MSELoss()  # Mean Squared Error loss\n",
    "optimizer = optim.Adam(model.parameters(), lr=0.0001)\n",
    "\n",
    "n_epochs = 100  # Number of epochs to run\n",
    "batch_size = 10  # Size of each batch\n",
    "batch_start = torch.arange(0, len(X_train), batch_size)\n",
    "# Hold the best model\n",
    "best_mse = np.inf  # Initialize to infinity\n",
    "best_weights = None\n",
    "history = []\n",
    "\n",
    "for epoch in range(n_epochs):\n",
    "    model.train()\n",
    "    with tqdm(batch_start, unit=\"batch\", mininterval=0, disable=True) as bar:\n",
    "        bar.set_description(f\"Epoch {epoch}\")\n",
    "        for start in bar:\n",
    "            # Take a batch\n",
    "            X_batch = X_train[start:start+batch_size].to(device)\n",
    "            y_batch = y_train[start:start+batch_size].to(device)\n",
    "            # Forward pass\n",
    "            y_pred = model(X_batch)\n",
    "            loss = loss_fn(y_pred, y_batch)\n",
    "            # Backward pass\n",
    "            optimizer.zero_grad()\n",
    "            loss.backward()\n",
    "            # Update weights\n",
    "            optimizer.step()\n",
    "            # Print progress\n",
    "            bar.set_postfix(mse=float(loss.item()))\n",
    "    # Evaluate accuracy at end of each epoch\n",
    "    model.eval()\n",
    "    with torch.no_grad():\n",
    "        y_pred = model(X_test.to(device))\n",
    "        mse = loss_fn(y_pred, y_test.to(device))\n",
    "        mse = float(mse)\n",
    "        history.append(mse)\n",
    "        if mse < best_mse:\n",
    "            best_mse = mse\n",
    "            best_weights = copy.deepcopy(model.state_dict())\n",
    "\n",
    "# Restore model to best weights and print final accuracy\n",
    "model.load_state_dict(best_weights)\n",
    "print(\"MSE: %.2f\" % best_mse)\n",
    "print(\"RMSE: %.2f\" % np.sqrt(best_mse))\n",
    "\n",
    "# Plot training history\n",
    "plt.plot(history)\n",
    "plt.xlabel('Epoch')\n",
    "plt.ylabel('MSE')\n",
    "plt.title('Training Loss')\n",
    "plt.savefig(\"house_train_loss.png\")\n",
    "plt.show()"
   ]
  },
  {
   "cell_type": "code",
   "execution_count": 24,
   "id": "98bcbe56-b814-4d75-8866-397c3c1f8333",
   "metadata": {},
   "outputs": [
    {
     "data": {
      "text/html": [
       "<div>\n",
       "<style scoped>\n",
       "    .dataframe tbody tr th:only-of-type {\n",
       "        vertical-align: middle;\n",
       "    }\n",
       "\n",
       "    .dataframe tbody tr th {\n",
       "        vertical-align: top;\n",
       "    }\n",
       "\n",
       "    .dataframe thead th {\n",
       "        text-align: right;\n",
       "    }\n",
       "</style>\n",
       "<table border=\"1\" class=\"dataframe\">\n",
       "  <thead>\n",
       "    <tr style=\"text-align: right;\">\n",
       "      <th></th>\n",
       "      <th>type</th>\n",
       "      <th>fixed acidity</th>\n",
       "      <th>volatile acidity</th>\n",
       "      <th>citric acid</th>\n",
       "      <th>residual sugar</th>\n",
       "      <th>chlorides</th>\n",
       "      <th>free sulfur dioxide</th>\n",
       "      <th>total sulfur dioxide</th>\n",
       "      <th>density</th>\n",
       "      <th>pH</th>\n",
       "      <th>sulphates</th>\n",
       "      <th>alcohol</th>\n",
       "      <th>quality</th>\n",
       "    </tr>\n",
       "  </thead>\n",
       "  <tbody>\n",
       "    <tr>\n",
       "      <th>0</th>\n",
       "      <td>white</td>\n",
       "      <td>7.0</td>\n",
       "      <td>0.3</td>\n",
       "      <td>0.4</td>\n",
       "      <td>20.7</td>\n",
       "      <td>0.0</td>\n",
       "      <td>45.0</td>\n",
       "      <td>170.0</td>\n",
       "      <td>1.0</td>\n",
       "      <td>3.0</td>\n",
       "      <td>0.5</td>\n",
       "      <td>8.8</td>\n",
       "      <td>6</td>\n",
       "    </tr>\n",
       "    <tr>\n",
       "      <th>1</th>\n",
       "      <td>white</td>\n",
       "      <td>6.3</td>\n",
       "      <td>0.3</td>\n",
       "      <td>0.3</td>\n",
       "      <td>1.6</td>\n",
       "      <td>0.0</td>\n",
       "      <td>14.0</td>\n",
       "      <td>132.0</td>\n",
       "      <td>1.0</td>\n",
       "      <td>3.3</td>\n",
       "      <td>0.5</td>\n",
       "      <td>9.5</td>\n",
       "      <td>6</td>\n",
       "    </tr>\n",
       "    <tr>\n",
       "      <th>2</th>\n",
       "      <td>white</td>\n",
       "      <td>8.1</td>\n",
       "      <td>0.3</td>\n",
       "      <td>0.4</td>\n",
       "      <td>6.9</td>\n",
       "      <td>0.1</td>\n",
       "      <td>30.0</td>\n",
       "      <td>97.0</td>\n",
       "      <td>1.0</td>\n",
       "      <td>3.3</td>\n",
       "      <td>0.4</td>\n",
       "      <td>10.1</td>\n",
       "      <td>6</td>\n",
       "    </tr>\n",
       "    <tr>\n",
       "      <th>3</th>\n",
       "      <td>white</td>\n",
       "      <td>7.2</td>\n",
       "      <td>0.2</td>\n",
       "      <td>0.3</td>\n",
       "      <td>8.5</td>\n",
       "      <td>0.1</td>\n",
       "      <td>47.0</td>\n",
       "      <td>186.0</td>\n",
       "      <td>1.0</td>\n",
       "      <td>3.2</td>\n",
       "      <td>0.4</td>\n",
       "      <td>9.9</td>\n",
       "      <td>6</td>\n",
       "    </tr>\n",
       "    <tr>\n",
       "      <th>4</th>\n",
       "      <td>white</td>\n",
       "      <td>7.2</td>\n",
       "      <td>0.2</td>\n",
       "      <td>0.3</td>\n",
       "      <td>8.5</td>\n",
       "      <td>0.1</td>\n",
       "      <td>47.0</td>\n",
       "      <td>186.0</td>\n",
       "      <td>1.0</td>\n",
       "      <td>3.2</td>\n",
       "      <td>0.4</td>\n",
       "      <td>9.9</td>\n",
       "      <td>6</td>\n",
       "    </tr>\n",
       "  </tbody>\n",
       "</table>\n",
       "</div>"
      ],
      "text/plain": [
       "    type  fixed acidity  volatile acidity  citric acid  residual sugar  \\\n",
       "0  white            7.0               0.3          0.4            20.7   \n",
       "1  white            6.3               0.3          0.3             1.6   \n",
       "2  white            8.1               0.3          0.4             6.9   \n",
       "3  white            7.2               0.2          0.3             8.5   \n",
       "4  white            7.2               0.2          0.3             8.5   \n",
       "\n",
       "   chlorides  free sulfur dioxide  total sulfur dioxide  density  pH  \\\n",
       "0        0.0                 45.0                 170.0      1.0 3.0   \n",
       "1        0.0                 14.0                 132.0      1.0 3.3   \n",
       "2        0.1                 30.0                  97.0      1.0 3.3   \n",
       "3        0.1                 47.0                 186.0      1.0 3.2   \n",
       "4        0.1                 47.0                 186.0      1.0 3.2   \n",
       "\n",
       "   sulphates  alcohol  quality  \n",
       "0        0.5      8.8        6  \n",
       "1        0.5      9.5        6  \n",
       "2        0.4     10.1        6  \n",
       "3        0.4      9.9        6  \n",
       "4        0.4      9.9        6  "
      ]
     },
     "execution_count": 24,
     "metadata": {},
     "output_type": "execute_result"
    }
   ],
   "source": [
    "df = pd.read_csv(\"data/wine-quality-white-and-red.csv\")\n",
    "df.head()"
   ]
  },
  {
   "cell_type": "code",
   "execution_count": null,
   "id": "9a83e1a7-454b-4b5b-923a-09627ad8fc9c",
   "metadata": {},
   "outputs": [],
   "source": []
  },
  {
   "cell_type": "code",
   "execution_count": 25,
   "id": "79f5fd47-feb6-41b3-94b1-df7eedaa037d",
   "metadata": {},
   "outputs": [],
   "source": [
    "from sklearn.preprocessing import LabelEncoder\n",
    "from sklearn.preprocessing import StandardScaler\n",
    "X = df.drop('type', axis=1)\n",
    "y = df['type']\n",
    "\n",
    "# Convert categorical values to numerical values using LabelEncoder\n",
    "le = LabelEncoder()\n",
    "y = le.fit_transform(y)\n",
    "\n",
    "sc = StandardScaler()\n",
    "X = sc.fit_transform(X)\n",
    "\n",
    "\n",
    "trainX, testX, trainY, testY = train_test_split(X, y, test_size=0.2)\n",
    "\n",
    "\n",
    "# Convert target variables to NumPy arrays and reshape\n",
    "trainY = np.array(trainY).reshape(-1, 1)\n",
    "testY = np.array(testY).reshape(-1, 1)\n",
    "\n",
    "# Convert data to PyTorch tensors with the correct data type\n",
    "X_train = torch.Tensor(trainX).to(device)\n",
    "y_train = torch.Tensor(trainY).to(device) \n",
    "X_test = torch.Tensor(testX).to(device)\n",
    "y_test = torch.Tensor(testY).to(device)"
   ]
  },
  {
   "cell_type": "code",
   "execution_count": 26,
   "id": "0e665ae0-56db-4f20-97d8-d3f4b2fc7347",
   "metadata": {},
   "outputs": [
    {
     "name": "stdout",
     "output_type": "stream",
     "text": [
      "classification(\n",
      "  (fc1): Linear(in_features=12, out_features=64, bias=True)\n",
      "  (relu): ReLU()\n",
      "  (fc2): Linear(in_features=64, out_features=1, bias=True)\n",
      "  (sigmoid): Sigmoid()\n",
      ")\n"
     ]
    }
   ],
   "source": [
    "# Define the ANN model\n",
    "class classification(nn.Module):\n",
    "    def __init__(self, input_size, hidden_size, output_size):\n",
    "        super(classification, self).__init__()\n",
    "        self.fc1 = nn.Linear(input_size, hidden_size)\n",
    "        self.relu = nn.ReLU()\n",
    "        self.fc2 = nn.Linear(hidden_size, output_size)\n",
    "        self.sigmoid = nn.Sigmoid()\n",
    "\n",
    "    def forward(self, x):\n",
    "        out = self.fc1(x)\n",
    "        out = self.relu(out)\n",
    "        out = self.fc2(out)\n",
    "        out = self.sigmoid(out)\n",
    "        return out\n",
    "\n",
    "input_size = X_train.shape[1]\n",
    "hidden_size = 64\n",
    "output_size = 1\n",
    "model = classification(input_size, hidden_size, output_size)\n",
    "print(model.to(device))\n"
   ]
  },
  {
   "cell_type": "code",
   "execution_count": 27,
   "id": "f8893563-0c24-45aa-8380-8ec25d3958c8",
   "metadata": {},
   "outputs": [
    {
     "data": {
      "text/plain": [
       "classification(\n",
       "  (fc1): Linear(in_features=12, out_features=64, bias=True)\n",
       "  (relu): ReLU()\n",
       "  (fc2): Linear(in_features=64, out_features=1, bias=True)\n",
       "  (sigmoid): Sigmoid()\n",
       ")"
      ]
     },
     "execution_count": 27,
     "metadata": {},
     "output_type": "execute_result"
    }
   ],
   "source": [
    "model.to(device)"
   ]
  },
  {
   "cell_type": "code",
   "execution_count": 28,
   "id": "0a3abc41-6d6e-4224-a4a9-b1e8a41a6014",
   "metadata": {},
   "outputs": [
    {
     "name": "stdout",
     "output_type": "stream",
     "text": [
      "Epoch [10/100], Loss: 0.0468\n",
      "Epoch [20/100], Loss: 0.0063\n",
      "Epoch [30/100], Loss: 0.0034\n",
      "Epoch [40/100], Loss: 0.0028\n",
      "Epoch [50/100], Loss: 0.0009\n",
      "Epoch [60/100], Loss: 0.0036\n",
      "Epoch [70/100], Loss: 0.0005\n",
      "Epoch [80/100], Loss: 0.0010\n",
      "Epoch [90/100], Loss: 0.0154\n",
      "Epoch [100/100], Loss: 0.0022\n",
      "Accuracy: 0.9946\n"
     ]
    }
   ],
   "source": [
    "# Define the loss function and optimizer\n",
    "criterion = nn.BCELoss()\n",
    "optimizer = optim.Adam(model.parameters(), lr=0.001)\n",
    "\n",
    "# Create DataLoader\n",
    "train_dataset = TensorDataset(X_train, y_train)\n",
    "train_loader = DataLoader(train_dataset, batch_size=64, shuffle=True)\n",
    "\n",
    "# Train the model\n",
    "num_epochs = 100\n",
    "for epoch in range(num_epochs):\n",
    "    for inputs, targets in train_loader:\n",
    "        inputs, targets = inputs.to(device), targets.to(device)\n",
    "        outputs = model(inputs)\n",
    "        loss = criterion(outputs, targets)\n",
    "        optimizer.zero_grad()\n",
    "        loss.backward()\n",
    "        optimizer.step()\n",
    "\n",
    "    if (epoch + 1) % 10 == 0:\n",
    "        print(f'Epoch [{epoch + 1}/{num_epochs}], Loss: {loss.item():.4f}')\n",
    "\n",
    "# Evaluate the model\n",
    "model.eval()\n",
    "with torch.no_grad():\n",
    "    predictions = model(X_test)\n",
    "    predictions = np.round(predictions.cpu().numpy()).astype(int).reshape(-1)\n",
    "    accuracy = np.mean(predictions == y_test.cpu().numpy().reshape(-1))\n",
    "    print(f'Accuracy: {accuracy:.4f}')"
   ]
  },
  {
   "cell_type": "code",
   "execution_count": 29,
   "id": "a007a4e8-b1e6-42c8-b67e-f8cc855c2487",
   "metadata": {},
   "outputs": [
    {
     "name": "stdout",
     "output_type": "stream",
     "text": [
      "Accuracy: 0.9946\n",
      "Confusion Matrix:\n",
      "[[316   6]\n",
      " [  1 977]]\n",
      "\n",
      "Classification Report:\n",
      "              precision    recall  f1-score   support\n",
      "\n",
      "         red       1.00      0.98      0.99       322\n",
      "       white       0.99      1.00      1.00       978\n",
      "\n",
      "    accuracy                           0.99      1300\n",
      "   macro avg       1.00      0.99      0.99      1300\n",
      "weighted avg       0.99      0.99      0.99      1300\n",
      "\n"
     ]
    }
   ],
   "source": [
    "from sklearn.metrics import confusion_matrix\n",
    "from sklearn.metrics import classification_report\n",
    "from sklearn.metrics import ConfusionMatrixDisplay\n",
    "\n",
    "# Evaluation\n",
    "model.eval()  # Set the model to evaluation mode\n",
    "with torch.no_grad():\n",
    "    predY = model(X_test)\n",
    "    predY = np.round(predY.cpu().numpy()).astype(int).reshape(-1)  # Ensure predictions are integers\n",
    "# Calculate classification metrics\n",
    "accuracy = np.mean(predY == testY.reshape(-1))\n",
    "conf_matrix = confusion_matrix(testY, predY)\n",
    "class_report = classification_report(testY, predY, target_names=le.classes_)\n",
    "print(f'Accuracy: {accuracy:.4f}')\n",
    "print('Confusion Matrix:')\n",
    "print(conf_matrix)\n",
    "print('\\nClassification Report:')\n",
    "print(class_report)\n",
    "# Plot the confusion matrix\n",
    "disp = ConfusionMatrixDisplay(confusion_matrix=conf_matrix, display_labels=le.classes_)\n",
    "plt.show()"
   ]
  },
  {
   "cell_type": "code",
   "execution_count": 30,
   "id": "891f7519-33f9-4047-a7a8-4984da87c2fe",
   "metadata": {},
   "outputs": [
    {
     "data": {
      "image/png": "[encoded data removed]",
      "text/plain": [
       "<Figure size 640x480 with 2 Axes>"
      ]
     },
     "metadata": {},
     "output_type": "display_data"
    }
   ],
   "source": [
    "disp = ConfusionMatrixDisplay(confusion_matrix=conf_matrix, display_labels=le.classes_)\n",
    "disp.plot(cmap=plt.cm.Blues)\n",
    "plt.title('Confusion Matrix')\n",
    "plt.savefig(\"fig/wine_quality_confusion_matrix.png\")\n",
    "plt.show()"
   ]
  },
  {
   "cell_type": "code",
   "execution_count": 31,
   "id": "060f6908-b401-4811-879d-d47afa5338ec",
   "metadata": {},
   "outputs": [
    {
     "data": {
      "image/png": "[encoded data removed]",
      "text/plain": [
       "<Figure size 800x600 with 1 Axes>"
      ]
     },
     "metadata": {},
     "output_type": "display_data"
    }
   ],
   "source": [
    "from sklearn.metrics import roc_auc_score, roc_curve\n",
    "import matplotlib.pyplot as plt\n",
    "import torch\n",
    "# Calculate predicted probabilities using sigmoid activation\n",
    "\n",
    "# Calculate predicted probabilities using sigmoid activation\n",
    "with torch.no_grad():\n",
    "    ypred_proba = torch.sigmoid(model(X_test)).cpu().numpy()\n",
    "\n",
    "# Calculate ROC AUC score\n",
    "roc_auc = roc_auc_score(testY, ypred_proba)\n",
    "\n",
    "# Compute ROC curve\n",
    "fpr, tpr, _ = roc_curve(testY, ypred_proba)\n",
    "\n",
    "# Plot ROC curve in a single figure\n",
    "plt.figure(figsize=(8, 6))\n",
    "\n",
    "# Plot ROC curve\n",
    "plt.plot(fpr, tpr, color='blue', lw=2, label=f'ROC curve (area = {roc_auc:.2f})')\n",
    "plt.plot([0, 1], [0, 1], color='red', lw=2, linestyle='--')\n",
    "plt.xlim([0.0, 1.0])\n",
    "plt.ylim([0.0, 1.05])\n",
    "plt.xlabel('False Positive Rate')\n",
    "plt.ylabel('True Positive Rate')\n",
    "plt.title('Receiver Operating Characteristic (ROC) Curve')\n",
    "plt.legend(loc='lower right')\n",
    "plt.grid(True)\n",
    "plt.tight_layout()  # Tighten layout to prevent overlap\n",
    "plt.savefig(\"fig/wine_quality_roc_auc.png\")\n",
    "plt.show()"
   ]
  },
  {
   "cell_type": "code",
   "execution_count": 32,
   "id": "53ac7240-ffa4-49f6-ad85-95a15e30d202",
   "metadata": {},
   "outputs": [],
   "source": [
    "# save the trained model\n",
    "model_path = 'model.pth'\n",
    "torch.save(model, model_path)\n",
    "# Restoring your model is easy too\n",
    "mpl_model = torch.load(model_path)"
   ]
  },
  {
   "cell_type": "markdown",
   "id": "4d8ee740-8489-447c-8067-bde0c20f26ba",
   "metadata": {},
   "source": [
    "## CNN"
   ]
  },
  {
   "cell_type": "code",
   "execution_count": 33,
   "id": "729b618e-0403-4ef6-a73c-dbfff6d2683b",
   "metadata": {},
   "outputs": [
    {
     "name": "stdout",
     "output_type": "stream",
     "text": [
      "Files already downloaded and verified\n",
      "Files already downloaded and verified\n"
     ]
    }
   ],
   "source": [
    "#!pip install torchvision\n",
    "import torch\n",
    "import torch.nn as nn\n",
    "import torch.optim as optim\n",
    "import torch.nn.functional as F\n",
    "import torchvision\n",
    "import torchvision.transforms as transforms\n",
    "\n",
    "transform = transforms.Compose(\n",
    "    [transforms.ToTensor(),\n",
    "     transforms.Normalize((0.5, 0.5, 0.5), (0.5, 0.5, 0.5))])\n",
    "\n",
    "batch_size = 32\n",
    "image_size = (32, 32, 3)\n",
    "\n",
    "train_set = torchvision.datasets.CIFAR10(root='.', train=True,\n",
    "                                        download=True, transform=transform)\n",
    "train_loader = torch.utils.data.DataLoader(train_set, batch_size=batch_size,\n",
    "                                          shuffle=True, num_workers=2)\n",
    "\n",
    "test_set = torchvision.datasets.CIFAR10(root='.', train=False,\n",
    "                                       download=True, transform=transform)\n",
    "test_loader = torch.utils.data.DataLoader(test_set, batch_size=batch_size,\n",
    "                                         shuffle=False, num_workers=2)"
   ]
  },
  {
   "cell_type": "code",
   "execution_count": 34,
   "id": "8a2d420a-53fb-4077-bfde-dd087a897496",
   "metadata": {},
   "outputs": [],
   "source": [
    "criterion = nn.CrossEntropyLoss()\n",
    "\n",
    "class ConvNet(nn.Module):\n",
    "    def __init__(self, num_classes=10):\n",
    "        super(ConvNet, self).__init__()\n",
    "        self.features = nn.Sequential(\n",
    "            nn.Conv2d(3, 64, kernel_size=3, stride=1, padding=2),\n",
    "            nn.ReLU(inplace=True),\n",
    "            nn.MaxPool2d(kernel_size=2, stride=2),\n",
    "            nn.Conv2d(64, 128, kernel_size=3, stride=1, padding=2),\n",
    "            nn.ReLU(inplace=True),\n",
    "            nn.MaxPool2d(kernel_size=2, stride=2),\n",
    "        )\n",
    "        self.classifier = nn.Sequential(\n",
    "            nn.Dropout(),\n",
    "            nn.Linear(128 * 9 * 9, 512),\n",
    "            nn.ReLU(inplace=True),\n",
    "            nn.Linear(512, 10),\n",
    "        )\n",
    "\n",
    "    def forward(self, x):\n",
    "        x = self.features(x)\n",
    "        x = x.view(x.size(0), 128 * 9 * 9)\n",
    "        x = self.classifier(x)\n",
    "        return x"
   ]
  },
  {
   "cell_type": "code",
   "execution_count": 35,
   "id": "02a4a0cc-ee8b-4b98-a957-e1a796712174",
   "metadata": {},
   "outputs": [],
   "source": [
    "net = ConvNet()\n",
    "net.to(device)\n",
    "\n",
    "# also the optimizer\n",
    "optimizer = optim.Adam(net.parameters(), lr=0.001)\n"
   ]
  },
  {
   "cell_type": "code",
   "execution_count": null,
   "id": "98adfe92-ab10-483f-bc78-606bbbea54d4",
   "metadata": {},
   "outputs": [],
   "source": [
    "train_loss = []\n",
    "test_loss = []\n",
    "train_acc = []\n",
    "test_acc = []\n",
    "\n",
    "for epoch in range(1, 33):  # loop over the dataset multiple times\n",
    "    \n",
    "    running_loss = .0\n",
    "    correct = 0\n",
    "    total = 0\n",
    "    for i, data in enumerate(train_loader):\n",
    "        # get the inputs\n",
    "        inputs, labels = data\n",
    "        if device == 'mps':\n",
    "            inputs, labels = inputs.to(device), labels.to(device)\n",
    "\n",
    "        # reset the parameter gradients\n",
    "        optimizer.zero_grad()\n",
    "\n",
    "        # forward\n",
    "        outputs = net(inputs)\n",
    "        loss = criterion(outputs, labels)\n",
    "        # backward\n",
    "        loss.backward()\n",
    "        # optimize\n",
    "        optimizer.step()\n",
    "        \n",
    "        running_loss += loss.item()\n",
    "        _, predicted = torch.max(outputs.data, 1)\n",
    "        total += labels.size(0)\n",
    "        correct += (predicted == labels).sum().item()\n",
    "        \n",
    "    running_loss /= len(train_loader)\n",
    "    train_loss.append(running_loss)\n",
    "    running_acc = correct / total\n",
    "    train_acc.append(running_acc)\n",
    "    \n",
    "    if epoch % 4 == 0:\n",
    "        print('\\nEpoch: {}'.format(epoch))\n",
    "        print('Train Acc. => {:.3f}%'.format(100 * running_acc), end=' | ')\n",
    "        print('Train Loss => {:.5f}'.format(running_loss))\n",
    "    \n",
    "    # evaluate on the test set\n",
    "    # note this is usually performed on the validation set\n",
    "    # for simplicity we just evaluate it on the test set\n",
    "    with torch.no_grad():\n",
    "        correct = 0\n",
    "        total = 0\n",
    "        test_running_loss = .0\n",
    "        for data in test_loader:\n",
    "            inputs, labels = data\n",
    "            if device == 'mps':\n",
    "                inputs, labels = inputs.to(device), labels.to(device)\n",
    "            outputs = net(inputs)\n",
    "            loss = criterion(outputs, labels)\n",
    "            test_running_loss += loss.item()\n",
    "            _, predicted = torch.max(outputs.data, 1)\n",
    "            total += labels.size(0)\n",
    "            correct += (predicted == labels).sum().item()\n",
    "\n",
    "        test_running_loss /= len(test_loader)\n",
    "        test_loss.append(test_running_loss)\n",
    "        test_running_acc = correct / total\n",
    "        test_acc.append(test_running_acc)\n",
    "        \n",
    "        if epoch % 4 == 0:\n",
    "            print('Test Acc.  => {:.3f}%'.format(100 * test_running_acc), end=' | ')\n",
    "            print('Test Loss  => {:.5f}'.format(test_running_loss))\n",
    "\n",
    "print('Finished Training')"
   ]
  },
  {
   "cell_type": "code",
   "execution_count": null,
   "id": "e53f2c42-e814-40ce-9c05-8dd07d5dc5ea",
   "metadata": {},
   "outputs": [],
   "source": [
    "plt.plot(train_loss, label='train')\n",
    "plt.plot(test_loss, label='test')\n",
    "plt.legend()\n",
    "plt.show()"
   ]
  },
  {
   "cell_type": "code",
   "execution_count": null,
   "id": "02ed1f42-fb8c-409f-b3e7-99ee7fdb1569",
   "metadata": {},
   "outputs": [],
   "source": [
    "plt.plot(train_acc, label='train')\n",
    "plt.plot(test_acc, label='test')\n",
    "plt.legend()\n",
    "plt.show()"
   ]
  },
  {
   "cell_type": "code",
   "execution_count": 47,
   "id": "e9e50865-ff33-428c-98b6-1aa062a1eff3",
   "metadata": {},
   "outputs": [
    {
     "data": {
      "image/png": "[encoded data removed]",
      "text/plain": [
       "<Figure size 1200x500 with 2 Axes>"
      ]
     },
     "metadata": {},
     "output_type": "display_data"
    }
   ],
   "source": [
    "# Plotting train and test loss\n",
    "plt.figure(figsize=(12, 5))\n",
    "\n",
    "# Subplot for Loss\n",
    "plt.subplot(1, 2, 1)\n",
    "plt.plot(range(1, 33), train_loss, label='Train Loss')\n",
    "plt.plot(range(1, 33), test_loss, label='Test Loss')\n",
    "plt.xlabel('Epochs')\n",
    "plt.ylabel('Loss')\n",
    "plt.title('Train and Test Loss over Epochs')\n",
    "plt.legend()\n",
    "plt.grid(True)\n",
    "\n",
    "# Subplot for Accuracy\n",
    "plt.subplot(1, 2, 2)\n",
    "plt.plot(range(1, 33), train_acc, label='Train Accuracy')\n",
    "plt.plot(range(1, 33), test_acc, label='Test Accuracy')\n",
    "plt.xlabel('Epochs')\n",
    "plt.ylabel('Accuracy')\n",
    "plt.title('Train and Test Accuracy over Epochs')\n",
    "plt.legend()\n",
    "plt.grid(True)\n",
    "# Display the plots\n",
    "plt.tight_layout()\n",
    "plt.savefig(\"fig/loss_accuracy_CIFAR10.png\")\n",
    "plt.show()"
   ]
  },
  {
   "cell_type": "code",
   "execution_count": 48,
   "id": "f9a7132e-c32e-4fa7-92e7-113a2e3a5079",
   "metadata": {},
   "outputs": [
    {
     "data": {
      "image/png": "[encoded data removed]",
      "text/plain": [
       "<Figure size 640x480 with 1 Axes>"
      ]
     },
     "metadata": {},
     "output_type": "display_data"
    },
    {
     "data": {
      "text/plain": [
       "<Figure size 640x480 with 0 Axes>"
      ]
     },
     "metadata": {},
     "output_type": "display_data"
    }
   ],
   "source": [
    "# Define a function to show images\n",
    "def imshow(inp, title=None):\n",
    "    \"\"\"Display image for Tensor.\"\"\"\n",
    "    inp = inp.numpy().transpose((1, 2, 0))\n",
    "    mean = np.array([0.5, 0.5, 0.5])\n",
    "    std = np.array([0.5, 0.5, 0.5])\n",
    "    inp = std * inp + mean\n",
    "    inp = np.clip(inp, 0, 1)\n",
    "    plt.imshow(inp)\n",
    "    if title is not None:\n",
    "        plt.title(title)\n",
    "    plt.pause(0.001)  # pause a bit so that plots are updated\n",
    "\n",
    "# Define the class names for CIFAR-10\n",
    "class_names = ['plane', 'car', 'bird', 'cat', 'deer', 'dog', 'frog', 'horse', 'ship', 'truck']\n",
    "\n",
    "# Get a batch of training data\n",
    "inputs, classes = next(iter(train_loader))\n",
    "\n",
    "# Select only the first 10 images and labels\n",
    "inputs = inputs[:10]\n",
    "classes = classes[:10]\n",
    "\n",
    "# Make a grid from the selected batch\n",
    "out = torchvision.utils.make_grid(inputs, nrow=10)\n",
    "\n",
    "# Display the images with correct titles\n",
    "imshow(out, title=' '.join([class_names[x] for x in classes]))\n",
    "plt.savefig(\"fig/class_labels_CIFAR10.png\")\n",
    "plt.show()"
   ]
  },
  {
   "cell_type": "code",
   "execution_count": null,
   "id": "0a061d29-801e-4149-b795-61a4ff09aa07",
   "metadata": {},
   "outputs": [
    {
     "name": "stdout",
     "output_type": "stream",
     "text": [
      "Downloading https://www.cs.toronto.edu/~kriz/cifar-10-python.tar.gz to ./data/cifar-10-python.tar.gz\n"
     ]
    },
    {
     "name": "stderr",
     "output_type": "stream",
     "text": [
      "100%|█████████████████████████████| 170498071/170498071 [06:48<00:00, 416929.38it/s]\n"
     ]
    },
    {
     "name": "stdout",
     "output_type": "stream",
     "text": [
      "Extracting ./data/cifar-10-python.tar.gz to ./data\n",
      "Files already downloaded and verified\n",
      "\n",
      "Epoch: 4\n",
      "Train Acc. => 55.956% | Train Loss => 1.23322\n",
      "Test Acc.  => 65.750% | Test Loss  => 0.96544\n",
      "\n",
      "Epoch: 8\n",
      "Train Acc. => 60.874% | Train Loss => 1.10386\n",
      "Test Acc.  => 68.840% | Test Loss  => 0.88814\n"
     ]
    }
   ],
   "source": [
    "import torch as T\n",
    "import torch.optim as optim\n",
    "import torchvision.transforms as transforms\n",
    "import torchvision.datasets as datasets\n",
    "import torch.nn.functional as F\n",
    "from torch.utils.data import DataLoader\n",
    "import matplotlib.pyplot as plt\n",
    "\n",
    "# Data augmentation\n",
    "transform_train = transforms.Compose([\n",
    "    transforms.RandomHorizontalFlip(),\n",
    "    transforms.RandomCrop(32, padding=4),\n",
    "    transforms.ToTensor(),\n",
    "    transforms.Normalize((0.5, 0.5, 0.5), (0.5, 0.5, 0.5)),\n",
    "])\n",
    "\n",
    "transform_test = transforms.Compose([\n",
    "    transforms.ToTensor(),\n",
    "    transforms.Normalize((0.5, 0.5, 0.5), (0.5, 0.5, 0.5)),\n",
    "])\n",
    "\n",
    "# Load CIFAR-10 dataset\n",
    "train_set = datasets.CIFAR10(root='./data', train=True,\n",
    "                             download=True, transform=transform_train)\n",
    "train_loader = DataLoader(train_set, batch_size=batch_size,\n",
    "                          shuffle=True, num_workers=2)\n",
    "\n",
    "test_set = datasets.CIFAR10(root='./data', train=False,\n",
    "                            download=True, transform=transform_test)\n",
    "test_loader = DataLoader(test_set, batch_size=batch_size,\n",
    "                         shuffle=False, num_workers=2)\n",
    "\n",
    "# Define your network (with dropout layers added)\n",
    "class ConvNet(nn.Module):\n",
    "    def __init__(self, num_classes=10):\n",
    "        super(ConvNet, self).__init__()\n",
    "        self.features = nn.Sequential(\n",
    "            nn.Conv2d(3, 64, kernel_size=3, stride=1, padding=2),\n",
    "            nn.ReLU(inplace=True),\n",
    "            nn.MaxPool2d(kernel_size=2, stride=2),\n",
    "            nn.Conv2d(64, 128, kernel_size=3, stride=1, padding=2),\n",
    "            nn.ReLU(inplace=True),\n",
    "            nn.MaxPool2d(kernel_size=2, stride=2),\n",
    "        )\n",
    "        self.classifier = nn.Sequential(\n",
    "            nn.Dropout(0.5),\n",
    "            nn.Linear(128 * 9 * 9, 512),\n",
    "            nn.ReLU(inplace=True),\n",
    "            nn.Dropout(0.5),\n",
    "            nn.Linear(512, num_classes),\n",
    "        )\n",
    "\n",
    "    def forward(self, x):\n",
    "        x = self.features(x)\n",
    "        x = x.view(x.size(0), 128 * 9 * 9)\n",
    "        x = self.classifier(x)\n",
    "        return x\n",
    "\n",
    "# Initialize the network\n",
    "net = ConvNet(num_classes=10)\n",
    "device = 'cuda' if T.cuda.is_available() else 'cpu'\n",
    "net.to(device)\n",
    "\n",
    "# Define the criterion and optimizer with L2 regularization\n",
    "criterion = nn.CrossEntropyLoss()\n",
    "optimizer = optim.Adam(net.parameters(), lr=0.001, weight_decay=1e-4)\n",
    "\n",
    "# Learning rate scheduler\n",
    "scheduler = optim.lr_scheduler.StepLR(optimizer, step_size=10, gamma=0.1)\n",
    "\n",
    "train_loss = []\n",
    "test_loss = []\n",
    "train_acc = []\n",
    "test_acc = []\n",
    "\n",
    "early_stopping_threshold = 5\n",
    "no_improvement_count = 0\n",
    "best_test_loss = float('inf')\n",
    "\n",
    "for epoch in range(1, 33):  # loop over the dataset multiple times\n",
    "    \n",
    "    running_loss = .0\n",
    "    correct = 0\n",
    "    total = 0\n",
    "    net.train()\n",
    "    for i, data in enumerate(train_loader):\n",
    "        # get the inputs\n",
    "        inputs, labels = data\n",
    "        if device == 'cuda':\n",
    "            inputs, labels = inputs.to(device), labels.to(device)\n",
    "\n",
    "        # reset the parameter gradients\n",
    "        optimizer.zero_grad()\n",
    "\n",
    "        # forward\n",
    "        outputs = net(inputs)\n",
    "        loss = criterion(outputs, labels)\n",
    "        # backward\n",
    "        loss.backward()\n",
    "        # optimize\n",
    "        optimizer.step()\n",
    "        \n",
    "        running_loss += loss.item()\n",
    "        _, predicted = T.max(outputs.data, 1)\n",
    "        total += labels.size(0)\n",
    "        correct += (predicted == labels).sum().item()\n",
    "        \n",
    "    running_loss /= len(train_loader)\n",
    "    train_loss.append(running_loss)\n",
    "    running_acc = correct / total\n",
    "    train_acc.append(running_acc)\n",
    "    \n",
    "    if epoch % 4 == 0:\n",
    "        print('\\nEpoch: {}'.format(epoch))\n",
    "        print('Train Acc. => {:.3f}%'.format(100 * running_acc), end=' | ')\n",
    "        print('Train Loss => {:.5f}'.format(running_loss))\n",
    "    \n",
    "    # evaluate on the test set\n",
    "    net.eval()\n",
    "    with T.no_grad():\n",
    "        correct = 0\n",
    "        total = 0\n",
    "        test_running_loss = .0\n",
    "        for data in test_loader:\n",
    "            inputs, labels = data\n",
    "            if device == 'cuda':\n",
    "                inputs, labels = inputs.to(device), labels.to(device)\n",
    "            outputs = net(inputs)\n",
    "            loss = criterion(outputs, labels)\n",
    "            test_running_loss += loss.item()\n",
    "            _, predicted = T.max(outputs.data, 1)\n",
    "            total += labels.size(0)\n",
    "            correct += (predicted == labels).sum().item()\n",
    "\n",
    "        test_running_loss /= len(test_loader)\n",
    "        test_loss.append(test_running_loss)\n",
    "        test_running_acc = correct / total\n",
    "        test_acc.append(test_running_acc)\n",
    "        \n",
    "        if epoch % 4 == 0:\n",
    "            print('Test Acc.  => {:.3f}%'.format(100 * test_running_acc), end=' | ')\n",
    "            print('Test Loss  => {:.5f}'.format(test_running_loss))\n",
    "\n",
    "    scheduler.step()\n",
    "\n",
    "    # Early stopping\n",
    "    if test_running_loss < best_test_loss:\n",
    "        best_test_loss = test_running_loss\n",
    "        no_improvement_count = 0\n",
    "    else:\n",
    "        no_improvement_count += 1\n",
    "        if no_improvement_count >= early_stopping_threshold:\n",
    "            print('Early stopping at epoch {}'.format(epoch))\n",
    "            break\n",
    "\n",
    "print('Finished Training')"
   ]
  },
  {
   "cell_type": "code",
   "execution_count": null,
   "id": "ceaa13e6-ba89-42ab-a350-0e05ae02cbf0",
   "metadata": {},
   "outputs": [],
   "source": []
  },
  {
   "cell_type": "code",
   "execution_count": null,
   "id": "7b8b0837-6ca0-4e03-a582-e421902eb579",
   "metadata": {},
   "outputs": [],
   "source": []
  }
 ],
 "metadata": {
  "kernelspec": {
   "display_name": "Python 3 (ipykernel)",
   "language": "python",
   "name": "python3"
  },
  "language_info": {
   "codemirror_mode": {
    "name": "ipython",
    "version": 3
   },
   "file_extension": ".py",
   "mimetype": "text/x-python",
   "name": "python",
   "nbconvert_exporter": "python",
   "pygments_lexer": "ipython3",
   "version": "3.11.0"
  }
 },
 "nbformat": 4,
 "nbformat_minor": 5
}
